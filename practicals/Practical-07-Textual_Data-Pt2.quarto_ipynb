{
  "cells": [
    {
      "cell_type": "markdown",
      "metadata": {},
      "source": [
        "---\n",
        "title: \"Practical 7: Working with Text\"\n",
        "subtitle: \"The basics of Text Mining and NLP\"\n",
        "jupyter: python3\n",
        "filters:\n",
        "  - qna\n",
        "  - quarto\n",
        "---\n",
        "\n",
        "\n",
        "| Complete | Part 1: Foundations | Part 2: Data | Part 3: Analysis |     |\n",
        "| :------- | :------------------ | :----------- | :--------------- | --: |\n",
        "| 60% | &#9619;&#9619;&#9619;&#9619;&#9619;&#9619;&#9619;&#9619; | &#9619;&#9619;&#9619;&#9619;&#9619;&#9617; | &#9617;&#9617;&#9617;&#9617;&#9617;&#9617; | 7/10\n",
        "\n",
        "A lot of the content here is provided to help you *understand* what text-cleaning does and how it generates tokens that can be processed by the various analytical approaches commonly-used in NLP. The best way to think about this is as a practical in three parts, not all of which you should expect to complete in this session:\n",
        "\n",
        "1. Tasks 1–3: these are largely focussed on the basics: exploring text and using regular expressions to find and select text.\n",
        "2. Tasks 4–5: this might seem like a *bit* of a detour, but it's intended to show you in a more tangible way how 'normalisation' works when we're working with text. **You should feel free to stop here and return to the rest later.**\n",
        "3. Tasks 6–7: are about finding important vocabulary (think 'keywords' and 'significant terms') in documents so that you can start to think about what is *distinctive* about documents and groups of documents. **This is quite useful and relatively easier to understand than what comes next!**\n",
        "4. Tasks 8–9: are about fully-fledged NLP using Latent Direclecht Allocation (topic modelling) and Word2Vec (words embeddings for use in clustering or similarity work).\n",
        "\n",
        "The later parts are largely complete and ready to run; however, that *doesn't* mean you should just skip over them and think you've grasped what's happening and it will be easy to apply in your own analyses. I would *not* pay as much attention to LDA topic mining since I don't think it's results are that good, but I've included it here as it's still commonly-used in the Digital Humanities and by Marketing folks. Word2Vec is much more powerful and forms the basis of the kinds of advances seen in ChatGPT and other LLMs.\n",
        "\n",
        "::: {.callout-note}\n",
        "\n",
        "#### &#128279; Connections\n",
        "\n",
        "Working with text is unquestionably _hard_. In fact, _conceptually_ this is probaly the most challenging practical of the term! But data scientists are _always_ dealing with text because so much of the data that we collect (even more so thanks to the web) is not only text-based (URLs are text!) but, increasingly, unstructured (social media posts, tags, etc.). So while getting to grips with text is a challenge, it also uniquely positions you with respect to the skills and knowledge that other graduates are offering to employers.\n",
        ":::\n",
        "\n",
        "# Preamble\n",
        "\n",
        "This practical has been written using `nltk`, but would be _relatively_ easy to rework using `spacy`. Most programmers tend to use one *or* the other, and the switch wouldn't be hard other than having to first load the requisite language models:\n"
      ],
      "id": "2f2ce9d6"
    },
    {
      "cell_type": "code",
      "metadata": {},
      "source": [
        "import spacy\n",
        "\n",
        "# `...web_md` and `...web_lg` are also options\n",
        "corp = \"en_core_web_sm\"\n",
        "\n",
        "try: \n",
        "    nlp = spacy.load(corp)\n",
        "except OSError:\n",
        "    spacy.cli.download(corp)\n",
        "    nlp = spacy.load(corp)"
      ],
      "id": "9da9e3bb",
      "execution_count": null,
      "outputs": []
    },
    {
      "cell_type": "markdown",
      "metadata": {},
      "source": [
        "You can [read about the models](https://spacy.io/models/en), and note that they are also [available in other languages](https://spacy.io/usage/models) besides English.\n",
        "\n",
        "# Setup\n",
        "\n",
        "::: {.callout-tip collapse=\"true\"}\n",
        "\n",
        "#### Difficulty Level: Low\n",
        "\n",
        "But this is only because this has been worked out for you. Starting from sctach in NLP is _hard_ so people try to avoid it as much as possible.\n",
        "\n",
        ":::\n",
        "\n",
        "## Required Modules\n",
        "\n",
        "::: {.callout-note}\n",
        "\n",
        "Notice that the number of modules and functions that we import is steadily increasing week-on-week, and that for text processing we tend to draw on quite a wide range of utilies! That said, the three most commonly used are: `sklearn`, `nltk`, and `spacy`.\n",
        "\n",
        ":::\n",
        "\n",
        "Standard libraries we've seen before.\n"
      ],
      "id": "d26ab733"
    },
    {
      "cell_type": "code",
      "metadata": {},
      "source": [
        "import os\n",
        "import numpy as np\n",
        "import pandas as pd\n",
        "import geopandas as gpd\n",
        "import re\n",
        "import math\n",
        "import matplotlib.pyplot as plt"
      ],
      "id": "590d99a1",
      "execution_count": null,
      "outputs": []
    },
    {
      "cell_type": "markdown",
      "metadata": {},
      "source": [
        "Vectorisers we will use from the 'big beast' of Python machine learning: Sci-Kit Learn.\n"
      ],
      "id": "3cb94554"
    },
    {
      "cell_type": "code",
      "metadata": {},
      "source": [
        "from sklearn.feature_extraction.text import TfidfVectorizer\n",
        "from sklearn.feature_extraction.text import CountVectorizer\n",
        "from sklearn.decomposition import LatentDirichletAllocation\n",
        "\n",
        "# We don't use this but I point out where you *could*\n",
        "from sklearn.preprocessing import OneHotEncoder "
      ],
      "id": "37aba25c",
      "execution_count": null,
      "outputs": []
    },
    {
      "cell_type": "markdown",
      "metadata": {},
      "source": [
        "NLP-specific libraries that we will use for tokenisation, lemmatisation, and frequency analysis.\n"
      ],
      "id": "e2450fb2"
    },
    {
      "cell_type": "code",
      "metadata": {},
      "source": [
        "import nltk\n",
        "import spacy\n",
        "from nltk.corpus import wordnet as wn\n",
        "from nltk.stem.wordnet import WordNetLemmatizer\n",
        "\n",
        "try:\n",
        "    from nltk.corpus import stopwords\n",
        "except:\n",
        "    nltk.download('stopwords')\n",
        "    from nltk.corpus import stopwords\n",
        "stopword_list = set(stopwords.words('english'))\n",
        "\n",
        "from nltk.tokenize import word_tokenize, sent_tokenize\n",
        "from nltk.tokenize.toktok import ToktokTokenizer\n",
        "\n",
        "from nltk.stem.porter import PorterStemmer\n",
        "from nltk.stem.snowball import SnowballStemmer\n",
        "\n",
        "from nltk import ngrams, FreqDist\n",
        "\n",
        "lemmatizer = WordNetLemmatizer()\n",
        "tokenizer = ToktokTokenizer()"
      ],
      "id": "4e97b082",
      "execution_count": null,
      "outputs": []
    },
    {
      "cell_type": "markdown",
      "metadata": {},
      "source": [
        "Remaining libraries that we'll use for processing and display text data. Most of this relates to dealing with the various ways that text data cleaning is *hard* because of the myriad formats it comes in.\n"
      ],
      "id": "c6a69722"
    },
    {
      "cell_type": "code",
      "metadata": {},
      "source": [
        "import string\n",
        "import unicodedata\n",
        "from bs4 import BeautifulSoup\n",
        "from wordcloud import WordCloud, STOPWORDS"
      ],
      "id": "666188b6",
      "execution_count": null,
      "outputs": []
    },
    {
      "cell_type": "markdown",
      "metadata": {},
      "source": [
        "This next is just a small utility function that allows us to output Markdown (like this cell) instead of plain text:\n"
      ],
      "id": "b1d2c3f4"
    },
    {
      "cell_type": "code",
      "metadata": {},
      "source": [
        "from IPython.display import display_markdown\n",
        "\n",
        "def as_markdown(head='', body='Some body text'):\n",
        "    if head != '':\n",
        "        display_markdown(f\"##### {head}\\n\\n>{body}\\n\", raw=True)\n",
        "    else:\n",
        "        display_markdown(f\">{body}\\n\", raw=True)\n",
        "\n",
        "as_markdown('Result!', \"Here's my output...\")"
      ],
      "id": "a7a5917b",
      "execution_count": null,
      "outputs": []
    },
    {
      "cell_type": "markdown",
      "metadata": {},
      "source": [
        "## Loading Data\n",
        "\n",
        "::: {.callout-note}\n",
        "\n",
        "#### &#128279; Connections\n",
        "\n",
        "Because I generally want each practical to stand on its own (unless I'm trying to make a _point_), I've not moved this to a separate Python file (e.g. `utils.py`, but in line with what we covered back in the lectures on [Functions and Packages](https://jreades.github.io/fsds/sessions/week3.html#lectures), this sort of thing is a good candidate for being split out to a separate file to simplify re-use.\n",
        "\n",
        ":::\n",
        "\n",
        "Remember this function from last week? We use it to save downloading files that we already have stored locally. But notice I've made some small changes... what do these do to help the user?\n"
      ],
      "id": "8090c281"
    },
    {
      "cell_type": "code",
      "metadata": {},
      "source": [
        "import os\n",
        "from requests import get\n",
        "from urllib.parse import urlparse\n",
        "\n",
        "def cache_data(src:str, dest:str) -> str:\n",
        "    \"\"\"Downloads and caches a remote file locally.\n",
        "    \n",
        "    The function sits between the 'read' step of a pandas or geopandas\n",
        "    data frame and downloading the file from a remote location. The idea\n",
        "    is that it will save it locally so that you don't need to remember to\n",
        "    do so yourself. Subsequent re-reads of the file will return instantly\n",
        "    rather than downloading the entire file for a second or n-th itme.\n",
        "    \n",
        "    Parameters\n",
        "    ----------\n",
        "    src : str\n",
        "        The remote *source* for the file, any valid URL should work.\n",
        "    dest : str\n",
        "        The *destination* location to save the downloaded file.\n",
        "        \n",
        "    Returns\n",
        "    -------\n",
        "    str\n",
        "        A string representing the local location of the file.\n",
        "    \"\"\"\n",
        "    \n",
        "    url = urlparse(src) # We assume that this is some kind of valid URL \n",
        "    fn  = os.path.split(url.path)[-1] # Extract the filename\n",
        "    dfn = os.path.join(dest,fn) # Destination filename\n",
        "    \n",
        "    # Check if dest+filename does *not* exist -- \n",
        "    # that would mean we have to download it! We\n",
        "    # also check for *very* small files that are \n",
        "    # likely to represent an incomplete download.\n",
        "    if not os.path.isfile(dfn) or os.stat(dfn).st_size < 250:\n",
        "        \n",
        "        print(f\"{dfn} not found, downloading!\")\n",
        "\n",
        "        # Convert the path back into a list (without)\n",
        "        # the filename -- we need to check that directories\n",
        "        # exist first.\n",
        "        path = os.path.split(dest)\n",
        "        \n",
        "        # Create any missing directories in dest(ination) path\n",
        "        # -- os.path.join is the reverse of split (as you saw above)\n",
        "        # but it doesn't work with lists... so I had to google how\n",
        "        # to use the 'splat' operator! os.makedirs creates missing\n",
        "        # directories in a path automatically.\n",
        "        if len(path) >= 1 and path[0] != '':\n",
        "            os.makedirs(os.path.join(*path), exist_ok=True)\n",
        "            \n",
        "        # Download and write the file\n",
        "        with open(dfn, \"wb\") as file:\n",
        "            response = get(src)\n",
        "            file.write(response.content)\n",
        "            \n",
        "        print(\"\\tDone downloading...\")\n",
        "\n",
        "        # What's this doing???\n",
        "        f_size = os.stat(dfn).st_size\n",
        "        print(f\"\\tSize is {f_size/1024**2:,.0f} MB ({f_size:,} bytes)\")\n",
        "\n",
        "    else:\n",
        "        print(f\"Found {dfn} locally!\")\n",
        "\n",
        "        # And why is it here as well???\n",
        "        f_size = os.stat(dfn).st_size\n",
        "        print(f\"\\tSize is {f_size/1024**2:,.0f} MB ({f_size:,} bytes)\")\n",
        "        \n",
        "    return dfn"
      ],
      "id": "1174f7b9",
      "execution_count": null,
      "outputs": []
    },
    {
      "cell_type": "markdown",
      "metadata": {},
      "source": [
        "::: {.callout-tip}\n",
        "\n",
        "For very large _non_-geographic data sets, remember that you can `use_cols` (or `columns` depending on the file type) to specify a subset of columns to load.\n",
        "\n",
        ":::\n",
        "\n",
        "Load the main data set:\n"
      ],
      "id": "88cfb779"
    },
    {
      "cell_type": "code",
      "metadata": {},
      "source": [
        "# Set download URL\n",
        "ymd  = '2023-09-06'\n",
        "host = 'https://orca.casa.ucl.ac.uk'\n",
        "url  = f'{host}/~jreades/data/{ymd}-listings.geoparquet'\n",
        "\n",
        "gdf = gpd.read_parquet( cache_data(url, os.path.join('data','geo')), \n",
        "                      columns=['geometry', 'listing_url', 'name', \n",
        "                               'description', 'amenities', 'price'])\n",
        "\n",
        "gdf = gdf.to_crs('epsg:27700')\n",
        "\n",
        "print(f\"gdf has {gdf.shape[0]:,} rows and CRS is {gdf.crs.name}.\")"
      ],
      "id": "d2817a5d",
      "execution_count": null,
      "outputs": []
    },
    {
      "cell_type": "markdown",
      "metadata": {},
      "source": [
        "Load supporting Geopackages:\n"
      ],
      "id": "f79b85ce"
    },
    {
      "cell_type": "code",
      "metadata": {},
      "source": [
        "ddir  = os.path.join('data','geo') # destination directory\n",
        "spath = 'https://github.com/jreades/fsds/blob/master/data/src/' # source path\n",
        "\n",
        "boros = gpd.read_file( cache_data(spath+'Boroughs.gpkg?raw=true', ddir) )\n",
        "water = gpd.read_file( cache_data(spath+'Water.gpkg?raw=true', ddir) )\n",
        "green = gpd.read_file( cache_data(spath+'Greenspace.gpkg?raw=true', ddir) )\n",
        "\n",
        "print('Done.')"
      ],
      "id": "b4266933",
      "execution_count": null,
      "outputs": []
    },
    {
      "cell_type": "markdown",
      "metadata": {},
      "source": [
        "# Exploratory Textual Analysis\n",
        "\n",
        "::: {.callout-note}\n",
        "\n",
        "#### &#128279; Connections\n",
        "\n",
        "If you plan to work with data post-graduation then you will _need_ to become comfortable with Regular Expressions (aka. regexes). These are the focus of the [Patterns in Text](https://jreades.github.io/fsds/sessions/week7.html#lectures) lecture but they barely even scratch the surface of what regexes can do. They are _hard_, but they are powerful. \n",
        "\n",
        ":::\n",
        "\n",
        "::: {.callout-tip}\n",
        "\n",
        "In a full text-mining application I would spend a lot more time on this stage: sampling, looking at descriptions in full, performing my analysis (the rest of the steps) and then coming back with a deeper understanding of the data to make further changes to the analysis.\n",
        "\n",
        ":::\n",
        "\n",
        "It's helpful to have a sense of what data look like before trying to do something with them, but by default pandas truncates quite a lot of output to keep it from overwhelming the display. For text processing, however, you should probably change the amount of preview text provided by pandas using the available options. *Note*: there are lots of other options that you can tweak in pandas.\n"
      ],
      "id": "1ae129f1"
    },
    {
      "cell_type": "code",
      "metadata": {},
      "source": [
        "print(f\"Default maximum column width: {pd.options.display.max_colwidth}\") # What's this currently set to?\n",
        "pd.options.display.max_colwidth=250   # None = no maximum column width (you probably don't want to leave it at this)\n",
        "print(f\"Now maximum column width set to: {pd.options.display.max_colwidth}\")"
      ],
      "id": "957c5380",
      "execution_count": null,
      "outputs": []
    },
    {
      "cell_type": "markdown",
      "metadata": {},
      "source": [
        "## The Description Field\n",
        "\n",
        "::: {.callout-warning collapse=\"true\"}\n",
        "\n",
        "#### Difficulty level: Moderate, because of the questions.\n",
        "\n",
        ":::\n",
        "\n",
        "To explore the description field properly you'll need to filter out any NA/NaN descriptions before sampling the result. *Hint*: you'll need to think about negation (`~`) of a method output that tells you if a field *is NA*.\n",
        "\n",
        ":::: {.panel-tabset}\n",
        "\n",
        "#### Question\n",
        "\n",
        "```python\n",
        "gdf[???].sample(5, random_state=42)[['description']]\n",
        "```\n",
        "\n",
        "#### Answer\n"
      ],
      "id": "e361f8fe"
    },
    {
      "cell_type": "code",
      "metadata": {},
      "source": [
        "gdf[~gdf.description.isna()].sample(5, random_state=42)[['description']]"
      ],
      "id": "a163f866",
      "execution_count": null,
      "outputs": []
    },
    {
      "cell_type": "markdown",
      "metadata": {},
      "source": [
        "::::\n",
        "\n",
        "::: {.callout-caution}\n",
        "\n",
        "#### Stop\n",
        "\n",
        "What do you notice about the above? Are they simple text? Are there patterns of problems? Are there characters that represent things other than words and simple punctuation?\n",
        "\n",
        ":::\n",
        "\n",
        "### Questions\n",
        "\n",
        "- What patterns can you see that might need 'dealing with' for text-mining to work?\n",
        "- What non-text characters can you see? (Things *other* than A-Z, a-z, and simple punctuation!)\n",
        "\n",
        "## The Amenities Field\n",
        "\n",
        "::: {.callout-warning collapse=\"true\"}\n",
        "\n",
        "#### Difficulty level: Moderate, because of the questions.\n",
        "\n",
        ":::\n",
        "\n",
        "This field presents a subtle issue that might not be obvious here:\n"
      ],
      "id": "2b8e8d05"
    },
    {
      "cell_type": "code",
      "metadata": {},
      "source": [
        "gdf.amenities.sample(5, random_state=42)"
      ],
      "id": "5105ea0f",
      "execution_count": null,
      "outputs": []
    },
    {
      "cell_type": "markdown",
      "metadata": {},
      "source": [
        "But look what happens now, can you see the issue a little more easily?\n"
      ],
      "id": "01cc1010"
    },
    {
      "cell_type": "code",
      "metadata": {},
      "source": [
        "gdf.amenities.iloc[0]"
      ],
      "id": "11b6149e",
      "execution_count": null,
      "outputs": []
    },
    {
      "cell_type": "markdown",
      "metadata": {},
      "source": [
        "### Questions\n",
        "\n",
        "- What's the implicit format of the Amenities columns?\n",
        "- How could you represent the data contained in the column?\n",
        "\n",
        "## Remove NaN Values\n",
        "\n",
        "::: {.callout-note}\n",
        "\n",
        "I would be wary of doing the below in a 'proper' application without doing some careful research first, but to make our lives easier, we're going to drop rows where one of these values is NaN _now_ so it will simplify the steps below. In reality, I would spend quite a bit more time investigating which values are NaN and why before simply dropping them.\n",
        "\n",
        ":::\n",
        "\n",
        "Anyway, drop all rows where *either* the description or amenities (or both) are NA:\n",
        "\n",
        ":::: {.panel-tabset}\n",
        "\n",
        "#### Question\n",
        "\n",
        "```python\n",
        "gdf = gdf.dropna(???)\n",
        "print(f\"Now gdf has {gdf.shape[0]:,} rows.\")\n",
        "```\n",
        "\n",
        "#### Answer\n"
      ],
      "id": "2d3b6c0d"
    },
    {
      "cell_type": "code",
      "metadata": {},
      "source": [
        "gdf = gdf.dropna(subset=['description','amenities'])\n",
        "print(f\"Now gdf has {gdf.shape[0]:,} rows.\")"
      ],
      "id": "33b503ea",
      "execution_count": null,
      "outputs": []
    },
    {
      "cell_type": "markdown",
      "metadata": {},
      "source": [
        "::::\n",
        "\n",
        "You should get that there are `{python} f\"{gdf.shape[0]:,}\"` rows.\n",
        "\n",
        "# Using Regular Expressions\n",
        "\n",
        "::: {.callout-note}\n",
        "\n",
        "#### &#128279; Connections\n",
        "\n",
        "We're building on the work done in [Practical 6](Practical-05-Spatial_Data.ipynb), but making use now of the lecture on [Patterns in Text](https://jreades.github.io/fsds/sessions/week6.html#lectures)) to quickly sort through the listings.\n",
        "\n",
        ":::\n",
        "\n",
        "There is a _lot_ that can be done with Regular Expressions to identify relevant records in textual data and we're going to use this as a starting point for the rest of the analysis. I would normally consider the regexes here a 'first pass' at the data, but would look very carefully at the output of the TF/IDF vectorizer, Count vectorizer, and LDA to see if I could improve my regexes for further cycles of analysis... the main gain there is that regexes are _much_ faster than using the full NLP (Natural Language Processing) pipeline on the _full_ data set each time. As an alternative, you could develop the pipeline using a random subsample of the data and then process the remaining records sequentially -- in this context there is no justification for doing that, but with a larger corpus it might make sense.\n",
        "\n",
        "## Luxury Listings\n",
        "\n",
        "::: {.callout-caution collapse=\"true\"}\n",
        "\n",
        "#### Difficulty level: Hard, because of the regular expression and questions.\n",
        "\n",
        ":::\n",
        "\n",
        "I would like you to find listings that *might* (on the basis of word choice) indicate 'luxury' accommodation.\n",
        "\n",
        "### Create the Regular Expression\n",
        "\n",
        "You should start with variations on 'luxury' (i.e. luxurious, luxuriate, ...) and work out a **single regular expression** that works for variations on this *one* word. **Later**, I would encourage you to come back to this and consider what other words might help to signal 'luxury'... perhaps words like 'stunning' or 'prestigious'? Could you add those to the regex as well?\n",
        "\n",
        "*Hints*: this is a toughy, but...\n",
        "\n",
        "1. All regular expressions work best using the `r'...'` (which means raw string) syntax.\n",
        "2. You need to be able to *group* terms. Recall, however, that in Python a 'group' of the form `r'(some text)'` refers to matching (`some text` will be 'memoized'/remembered), whereas what you need here is a \"non-capturing group\" of the **positive lookahead** type. That's a Google clue right there, but you've also seen this in the lecture.\n",
        "\n",
        "In fact, in my real-world applications you might even need more than one group/non-capturing group in a *nested* structure.\n",
        "\n",
        ":::: {.panel-tabset}\n",
        "\n",
        "#### Question\n",
        "\n",
        "```python\n",
        "gdf[\n",
        "    gdf.description.str.contains(r'???', regex=True, flags=re.IGNORECASE) # <-- The regex\n",
        "].sample(5, random_state=42)[['description']]\n",
        "```\n",
        "\n",
        "#### Answer\n"
      ],
      "id": "74d8d72e"
    },
    {
      "cell_type": "code",
      "metadata": {},
      "source": [
        "gdf[\n",
        "    gdf.description.str.contains(r'(?:luxur(?:y|ious|iat)|prestigious|stunning)', regex=True, flags=re.IGNORECASE)\n",
        "].sample(5, random_state=42)[['description']]"
      ],
      "id": "6aece418",
      "execution_count": null,
      "outputs": []
    },
    {
      "cell_type": "markdown",
      "metadata": {},
      "source": [
        "::::\n",
        "\n",
        "### Apply it to Select Data\n",
        "\n",
        "Assign it to a new data frame called `lux`:\n",
        "\n",
        ":::: {.panel-tabset}\n",
        "\n",
        "#### Question\n",
        "\n",
        "```python\n",
        "lux = gdf[gdf.description.str.contains(r'???', regex=True, flags=re.IGNORECASE)].copy()\n",
        "print(f\"Found {lux.shape[0]:,} records for 'luxury' flats\")\n",
        "```\n",
        "\n",
        "#### Answer\n"
      ],
      "id": "4276ed42"
    },
    {
      "cell_type": "code",
      "metadata": {},
      "source": [
        "lux = gdf[gdf.description.str.contains(r'(?:luxur(?:y|ious|iat)|prestigious|stunning)', regex=True, flags=re.IGNORECASE)].copy()\n",
        "print(f\"Found {lux.shape[0]:,} records for 'luxury' flats\")"
      ],
      "id": "428519b4",
      "execution_count": null,
      "outputs": []
    },
    {
      "cell_type": "markdown",
      "metadata": {},
      "source": [
        "::::\n",
        "\n",
        "You should get `{python} f\"{lux.shape[0]:,}\"` rows.\n",
        "\n",
        "### Plot the Data\n",
        "\n",
        "Now we are going to create a more complex plot that will give space to both the spatial and price distributions using `subplot2grid`.\n",
        "\n",
        "```python\n",
        "help(plt.subplot2grid)\n",
        "```\n",
        "\n",
        "Notice that there are two ways to create the plot specified above. I chose route 1, but in some ways route 2 (where you specify a `gridspec` object and *then* add the axes might be a bit simpler to work out if you're starting from scratch.\n",
        "\n",
        "The critical thing here is to understand how we'er initialising a plot that has **4 rows** and **1 column** even though it is only showing **2 plots**. What we're going to do is set the *first* plot to span **3 rows** so that it takes up 75% of the plot area (3/4), while the *second* plot only takes up 25% (1/4). They will appear one above the other, so there's only 1 column. Here's how to read the key parts of `subplot2grid`:\n",
        "\n",
        "- `nrows` -- how many rows *of plots* in the figure.\n",
        "- `ncols` -- how many columns *of plots* in the figure.\n",
        "- `row` -- what row of the figure does *this* plot start on (0-indexed like a list in Python).\n",
        "- `col` -- what column of the figure does *this* plot start on (0-indexed like a list in Python).\n",
        "- `rowspan` -- how many rows of the figure does *this* plot span (*not* 0-indexed because it's not list-like).\n",
        "- `colspan` -- how many columns of the figure does *this* plot span (*not* 0-indexed because it's not list-like).\n",
        "\n",
        "Every time you call `subplot2grid` you are initialising a new axis-object into which you can then draw with your geopackage or pandas plotting methods.\n",
        "\n",
        ":::: {.panel-tabset}\n",
        "\n",
        "#### Question\n",
        "\n",
        "```python\n",
        "\n",
        "f,ax = plt.subplots(1,1,figsize=(9,6))\n",
        "ax.remove()\n",
        "\n",
        "# The first plot \n",
        "ax1 = plt.subplot2grid((4, 1), (???), rowspan=???)\n",
        "boros.plot(edgecolor='red', facecolor='none', linewidth=1, alpha=0.75, ax=ax1)\n",
        "lux.plot(markersize=2, column='price', cmap='viridis', alpha=0.2, scheme='Fisher_Jenks_Sampled', ax=ax1)\n",
        "\n",
        "ax1.set_xlim([500000, 565000])\n",
        "ax1.set_ylim([165000, 195000]);\n",
        "\n",
        "# The second plot\n",
        "ax2 = plt.subplot2grid((???), (???), rowspan=1)\n",
        "lux.price.plot.hist(bins=250, ax=ax2)\n",
        "\n",
        "plt.suptitle(\"Listings Advertising Luxury\") # <-- How does this differ from title? Change it and see!\n",
        "plt.tight_layout() # <-- Try creating the plot *without* this to see what it changes\n",
        "plt.show()\n",
        "```\n",
        "\n",
        "#### Answer\n"
      ],
      "id": "00547d5b"
    },
    {
      "cell_type": "code",
      "metadata": {},
      "source": [
        "f,ax = plt.subplots(1,1,figsize=(7,6))\n",
        "ax.remove()\n",
        "\n",
        "# The first plot\n",
        "ax1 = plt.subplot2grid((4, 1), (0, 0), rowspan=3)\n",
        "boros.plot(edgecolor='red', facecolor='none', linewidth=1, alpha=0.75, ax=ax1)\n",
        "lux.plot(markersize=2, column='price', cmap='viridis', alpha=0.2, scheme='Fisher_Jenks_Sampled', ax=ax1)\n",
        "\n",
        "ax1.set_xlim([500000, 565000])\n",
        "ax1.set_ylim([165000, 195000]);\n",
        "\n",
        "# The second plot\n",
        "ax2 = plt.subplot2grid((4, 1), (3, 0), rowspan=1)\n",
        "lux.price.plot.hist(bins=250, ax=ax2)\n",
        "\n",
        "plt.suptitle(\"Listings Advertising Luxury\") # <-- How does this differ from title? Change it and see!\n",
        "plt.tight_layout() # <-- Try creating the plot *without* this to see what it changes"
      ],
      "id": "59afb469",
      "execution_count": null,
      "outputs": []
    },
    {
      "cell_type": "markdown",
      "metadata": {},
      "source": [
        "::::\n",
        "\n",
        "Your result should look similar to:\n"
      ],
      "id": "28ea29a9"
    },
    {
      "cell_type": "code",
      "metadata": {},
      "source": [
        "#| echo: false\n",
        "f"
      ],
      "id": "56528cfd",
      "execution_count": null,
      "outputs": []
    },
    {
      "cell_type": "markdown",
      "metadata": {},
      "source": [
        "### Questions\n",
        "\n",
        "- What does `suptitle` do and how is it different from `title`? Could you use this as part of your plot-making process?\n",
        "- What does `tight_layout` do?\n",
        "\n",
        "## Budget Listings\n",
        "\n",
        "::: {.callout-tip collapse=\"true\"}\n",
        "\n",
        "#### Difficulty level: Easy, because you've worked out the hard bits already.\n",
        "\n",
        ":::\n",
        "\n",
        "### Create the Regular Expression\n",
        "\n",
        "What words can you think of that might help you to spot affordable and budget accommodation? Start with just a couple of words and then I would encourage you to consider what _other_ words might help to signal 'affordability'... perhaps words like 'cosy' or 'charming' and then think about how you could you add those to the regex?\n",
        "\n",
        "*Hints*: this just builds on what you did above with one exception:\n",
        "\n",
        "1. I'd try adding word boundary markers to the regex (`\\b`) where appropriate...\n",
        "\n",
        ":::: {.panel-tabset}\n",
        "\n",
        "#### Question\n",
        "\n",
        "```python\n",
        "gdf[\n",
        "    gdf.description.str.contains(???, regex=True, flags=re.IGNORECASE)\n",
        "].sample(5, random_state=42)[['description']]\n",
        "```\n",
        "\n",
        "#### Answer\n"
      ],
      "id": "689c7754"
    },
    {
      "cell_type": "code",
      "metadata": {},
      "source": [
        "gdf[\n",
        "    gdf.description.str.contains(r'\\b(?:affordable|budget|cheap|cosy)\\b', \n",
        "    regex=True, flags=re.IGNORECASE)\n",
        "].sample(5, random_state=42)[['description']]"
      ],
      "id": "f46b08dd",
      "execution_count": null,
      "outputs": []
    },
    {
      "cell_type": "markdown",
      "metadata": {},
      "source": [
        "::::\n",
        "\n",
        "### Apply it to Select Data\n",
        "\n",
        ":::: {.panel-tabset}\n",
        "\n",
        "#### Question\n",
        "\n",
        "```python\n",
        "aff = gdf[gdf.description.str.contains(???, regex=True, flags=re.IGNORECASE)].copy()\n",
        "print(f\"There are {aff.shape[0]:,} rows flagged as 'affordable'.\")\n",
        "```\n",
        "\n",
        "#### Answer\n"
      ],
      "id": "ef680026"
    },
    {
      "cell_type": "code",
      "metadata": {},
      "source": [
        "aff = gdf[gdf.description.str.contains(r'\\b(?:affordable|budget|cheap|cosy)\\b', \n",
        "          regex=True, flags=re.IGNORECASE)].copy()\n",
        "print(f\"There are {aff.shape[0]:,} rows flagged as 'affordable'.\")"
      ],
      "id": "ca4144eb",
      "execution_count": null,
      "outputs": []
    },
    {
      "cell_type": "markdown",
      "metadata": {},
      "source": [
        "::::\n",
        "\n",
        "You should get `{python} f\"{aff.shape[0]:,}\" ` rows.\n",
        "\n",
        "### Plot the Data\n"
      ],
      "id": "d6cdb035"
    },
    {
      "cell_type": "code",
      "metadata": {},
      "source": [
        "f,ax = plt.subplots(1,1,figsize=(8,6))\n",
        "ax.remove()\n",
        "\n",
        "# The first plot\n",
        "ax1 = plt.subplot2grid((4, 1), (0, 0), rowspan=3)\n",
        "boros.plot(edgecolor='red', facecolor='none', linewidth=1, alpha=0.75, ax=ax1)\n",
        "aff.plot(markersize=2, column='price', cmap='viridis', alpha=0.2, scheme='Fisher_Jenks_Sampled', ax=ax1)\n",
        "\n",
        "ax1.set_xlim([500000, 565000])\n",
        "ax1.set_ylim([165000, 195000]);\n",
        "\n",
        "# The second plot\n",
        "ax2 = plt.subplot2grid((4, 1), (3, 0), rowspan=1)\n",
        "aff.price.plot.hist(bins=100, ax=ax2)\n",
        "\n",
        "plt.suptitle(\"Listings Advertising Affordability\")\n",
        "plt.tight_layout()\n",
        "#plt.savefig(\"Affordable_Listings.png\", dpi=150)"
      ],
      "id": "c902b60d",
      "execution_count": null,
      "outputs": []
    },
    {
      "cell_type": "markdown",
      "metadata": {},
      "source": [
        "### Questions\n",
        "\n",
        "- Do you think that this is a *good* way to select affordable options?\n",
        "- Do you understand what `dpi` means and how `savefig` works?\n",
        "- Copy the code from above but modify it to constrain the histogram on a more limited distribution by *filtering* out the outliers *before* drawing the plot. I would copy the cell above to one just below here so that you keep a working copy available and can undo any changes that break things.\n",
        "\n",
        "```python\n",
        "\n",
        "\n",
        "```\n",
        "\n",
        "## Near Bluespace\n",
        "\n",
        "::: {.callout-warning collapse=\"true\"}\n",
        "\n",
        "#### Difficulty level: Medium, because you're still learning about regexes.\n",
        "\n",
        ":::\n",
        "\n",
        "Now see if you can work out a regular expression to find accommodation that emphasises accessibility to the Thames and other 'blue spaces' as part of the description? One thing you'll need to tackle is that some listings seem to say something about Thameslink and you wouldn't want those be returned as part of a regex looking for _rivers_. So by way of a hint:\n",
        "\n",
        "- You probably need to think about the Thames, rivers, and water.\n",
        "- These will probably be *followed* by a qualifier like a 'view' (e.g. Thames-view) or a front (e.g. water-front).\n",
        "- But you need to rule out things like \"close the Thameslink station...\"\n",
        "\n",
        "### Create the regular Expression\n",
        "\n",
        ":::: {.panel-tabset}\n",
        "\n",
        "#### Question\n",
        "\n",
        "```python\n",
        "gdf[\n",
        "    gdf.description.str.contains(???, regex=???, flags=???)\n",
        "].sample(5, random_state=42)[['description']]\n",
        "```\n",
        "\n",
        "#### Answer\n"
      ],
      "id": "d134f722"
    },
    {
      "cell_type": "code",
      "metadata": {},
      "source": [
        "gdf[\n",
        "    gdf.description.str.contains(r'(?:Thames|river|water|canals?)(?:-|\\s+)(?: view|\\s?front)\\b', \n",
        "    regex=True, flags=re.IGNORECASE)\n",
        "].sample(5, random_state=42)[['description']]"
      ],
      "id": "d91da701",
      "execution_count": null,
      "outputs": []
    },
    {
      "cell_type": "markdown",
      "metadata": {},
      "source": [
        "::::\n",
        "\n",
        "### Apply it to the Select Data\n",
        "\n",
        ":::: {.panel-tabset}\n",
        "\n",
        "#### Question\n",
        "\n",
        "```python\n",
        "bluesp = gdf[\n",
        "    (gdf.description.str.contains(???, regex=True, flags=re.IGNORECASE)) |\n",
        "    (gdf.description.str.contains(???, regex=True, flags=re.IGNORECASE))\n",
        "].copy()\n",
        "print(f\"Found {bluesp.shape[0]:,} rows.\")\n",
        "```\n",
        "\n",
        "#### Answer\n"
      ],
      "id": "388995ee"
    },
    {
      "cell_type": "code",
      "metadata": {},
      "source": [
        "bluesp = gdf[\n",
        "    (gdf.description.str.contains(r'(?:Thames|river|water|canals?)(?:-|\\s+)(?:view|front)\\b', regex=True, flags=re.IGNORECASE)) |\n",
        "    (gdf.description.str.contains(r'(?:walk|close|near) to (?:Thames|river|water|canal)', regex=True, flags=re.IGNORECASE))\n",
        "].copy()\n",
        "print(f\"Found {bluesp.shape[0]:,} rows.\")"
      ],
      "id": "ce8d1b01",
      "execution_count": null,
      "outputs": []
    },
    {
      "cell_type": "markdown",
      "metadata": {},
      "source": [
        "::::\n",
        "\n",
        "You should get `{python} f\"{bluesp.shape[0]:,}\" ` rows.\n",
        "\n",
        "### Plot the Data\n"
      ],
      "id": "90cc9b8b"
    },
    {
      "cell_type": "code",
      "metadata": {},
      "source": [
        "f,ax = plt.subplots(1,1,figsize=(8,6))\n",
        "ax.remove()\n",
        "\n",
        "# The first plot\n",
        "ax1 = plt.subplot2grid((4, 1), (0, 0), rowspan=3)\n",
        "water.plot(edgecolor='none', facecolor=(.25, .25, .7, .25), ax=ax1)\n",
        "boros.plot(edgecolor='red', facecolor='none', linewidth=1, alpha=0.75, ax=ax1)\n",
        "bluesp.plot(markersize=2, column='price', cmap='viridis', alpha=0.5, scheme='Fisher_Jenks_Sampled', ax=ax1)\n",
        "\n",
        "ax1.set_xlim([500000, 565000])\n",
        "ax1.set_ylim([165000, 195000]);\n",
        "\n",
        "# The second plot\n",
        "ax2 = plt.subplot2grid((4, 1), (3, 0), rowspan=1)\n",
        "bluesp.price.plot.hist(bins=100, ax=ax2)\n",
        "\n",
        "plt.suptitle(\"Bluespace Listings\")\n",
        "plt.tight_layout()\n",
        "plt.show()"
      ],
      "id": "07e44696",
      "execution_count": null,
      "outputs": []
    },
    {
      "cell_type": "markdown",
      "metadata": {},
      "source": [
        "### Questions\n",
        "\n",
        "- How else might you select listings with a view of the Thames or other bluespaces?\n",
        "\n",
        "# Illustrative Text Cleaning\n",
        "\n",
        "Now we're going to step through the _parts_ of the process that we apply to clean and transform text. We'll do this individually before using a function to apply them _all at once_.\n",
        "\n",
        "## Downloading a Web Page\n",
        "\n",
        "::: {.callout-tip collapse=\"true\"}\n",
        "\n",
        "#### Difficulty Level: Low.\n",
        "\n",
        ":::\n",
        "\n",
        "There is plenty of good economic geography research being done using web pages. Try using Google Scholar to look for work using the British Library's copy of the *Internet Archive*.\n"
      ],
      "id": "07470bcc"
    },
    {
      "cell_type": "code",
      "metadata": {},
      "source": [
        "from urllib.request import urlopen, Request\n",
        "\n",
        "# We need this so that the Bartlett web site 'knows'\n",
        "# what kind of browser it is deasling with. Otherwise\n",
        "# you get a Permission Error (403 Forbidden) because\n",
        "# the site doesn't know what to do.\n",
        "hdrs = {\n",
        "    'User-Agent': 'Mozilla/5.0 (X11; Linux x86_64) AppleWebKit/537.11 (KHTML, like Gecko) Chrome/23.0.1271.64 Safari/537.11',\n",
        "    'Accept': 'text/html,application/xhtml+xml,application/xml;q=0.9,*/*;q=0.8',\n",
        "}\n",
        "url = 'https://www.ucl.ac.uk/bartlett/casa/about-0'"
      ],
      "id": "7fee0adc",
      "execution_count": null,
      "outputs": []
    },
    {
      "cell_type": "markdown",
      "metadata": {},
      "source": [
        ":::: {.panel-tabset}\n",
        "\n",
        "#### Question \n",
        "\n",
        "```python\n",
        "# Notice that here we have to assemble a request and\n",
        "# then 'open' it so that the request is properly issued\n",
        "# to the web server. Normally, we'd just use `urlopen`, \n",
        "# but that doesn't give you the ability to set the headers.\n",
        "request  = Request(url, None, hdrs) #The assembled request\n",
        "response = urlopen(request)\n",
        "html     = response.???.decode('utf-8') # The data you need\n",
        "\n",
        "print(html[:1000])\n",
        "```\n",
        "\n",
        "#### Answer\n"
      ],
      "id": "7eb3e17d"
    },
    {
      "cell_type": "code",
      "metadata": {},
      "source": [
        "# Notice that here we have to assemble a request and\n",
        "# then 'open' it so that the request is properly issued\n",
        "# to the web server. Normally, we'd just use `urlopen`, \n",
        "# but that doesn't give you the ability to set the headers.\n",
        "request  = Request(url, None, hdrs) #The assembled request\n",
        "response = urlopen(request)\n",
        "html     = response.read().decode('utf-8') # The data you need\n",
        "\n",
        "print(html[:1000])"
      ],
      "id": "cea65a30",
      "execution_count": null,
      "outputs": []
    },
    {
      "cell_type": "markdown",
      "metadata": {},
      "source": [
        "::::\n",
        "\n",
        "## Removing HTML\n",
        "\n",
        "::: {.callout-warning collapse=\"true\"}\n",
        "\n",
        "#### Difficulty level: Moderate\n",
        "\n",
        "Because what we're doing will seem really strange and uses some previously unseen libraries that you'll have to google.\n",
        "\n",
        ":::\n",
        "\n",
        "*Hint*: you need to need to **get the text** out of the each returned `<p>` and `<div>` element! I'd suggest also commenting this up since there is a *lot* going on on some of these lines of code!\n",
        "\n",
        ":::: {.panel-tabset}\n",
        "\n",
        "#### Question\n",
        "\n",
        "```python\n",
        "cleaned = []\n",
        "\n",
        "soup = BeautifulSoup(html)\n",
        "body = soup.find('body')\n",
        "\n",
        "for c in body.findChildren(recursive=False):\n",
        "    if c.name in ['div','p'] and c.???.strip() != '': \n",
        "        # \\xa0 is a non-breaking space in Unicode (&nbsp; in HTML)\n",
        "        txt = [re.sub(r'(?:\\u202f|\\xa0|\\u200b)',' ',x.strip()) for x in c.get_text(separator=\" \").split('\\n') if x.strip() != '']\n",
        "        cleaned += txt\n",
        "\n",
        "cleaned\n",
        "```\n",
        "\n",
        "#### Answer\n"
      ],
      "id": "bf564e06"
    },
    {
      "cell_type": "code",
      "metadata": {},
      "source": [
        "cleaned = []\n",
        "\n",
        "soup = BeautifulSoup(html)\n",
        "body = soup.find('body')\n",
        "\n",
        "for c in body.findChildren(recursive=False):\n",
        "    if c.name in ['div','p'] and c.get_text().strip() != '':\n",
        "        # \\xa0 is a non-breaking space in Unicode (&nbsp; in HTML)\n",
        "        txt = [re.sub(r'(?:\\u202f|\\xa0|\\u200b)',' ',x.strip()) for x in c.get_text(separator=\" \").split('\\n') if x.strip() != '']\n",
        "        cleaned += txt\n",
        "\n",
        "cleaned"
      ],
      "id": "176f33c0",
      "execution_count": null,
      "outputs": []
    },
    {
      "cell_type": "markdown",
      "metadata": {},
      "source": [
        "::::\n",
        "\n",
        "## Lower Case\n",
        "\n",
        "::: {.callout-tip collapse=\"true\"}\n",
        "\n",
        "#### Difficulty Level: Low.\n",
        "\n",
        ":::\n",
        "\n",
        ":::: {.panel-tabset}\n",
        "\n",
        "#### Question\n",
        "\n",
        "```python\n",
        "lower = [c.???() for ??? in cleaned]\n",
        "lower\n",
        "```\n",
        "\n",
        "#### Answer\n"
      ],
      "id": "b9f80fc2"
    },
    {
      "cell_type": "code",
      "metadata": {},
      "source": [
        "lower = [s.lower() for s in cleaned]\n",
        "lower"
      ],
      "id": "3c2394d3",
      "execution_count": null,
      "outputs": []
    },
    {
      "cell_type": "markdown",
      "metadata": {},
      "source": [
        "::::\n",
        "\n",
        "## Stripping 'Punctuation'\n",
        "\n",
        "::: {.callout-caution collapse=\"true\"}\n",
        "\n",
        "#### Difficulty level: Hard\n",
        "\n",
        "This is because you need to understand: 1) why we're _compiling_ the regular expression and how to use character classes; and 2) how the NLTK tokenizer differs in approach to the regex.\n",
        "\n",
        ":::\n",
        "\n",
        "### Regular Expression Approach\n",
        "\n",
        "We want to clear out punctuation using a regex that takes advantage of the `[...]` (character class) syntax. The really tricky part is remembering how to specify the 'punctuation' when some of that punctuation has 'special' meanings in a regular expression context. For instance, `.` means 'any character', while `[` and `]` mean 'character class'. So this is another *escaping* problem and it works the *same* way it did when we were dealing with the Terminal... \n",
        "\n",
        "*Hints*: some other factors... \n",
        "\n",
        "1. You will want to match more than one piece of punctuation at a time, so I'd suggest add a `+` to your pattern.\n",
        "2. You will need to look into *metacharacters* for creating a kind of 'any of the characters *in this class*' bag of possible matches.\n",
        "\n",
        ":::: {.panel-tabset}\n",
        "\n",
        "#### Question\n",
        "\n",
        "```python\n",
        "pattern = re.compile(r'[???]+')\n",
        "print(pattern)\n",
        "```\n",
        "\n",
        "#### Answer\n"
      ],
      "id": "2963b199"
    },
    {
      "cell_type": "code",
      "metadata": {},
      "source": [
        "pattern = re.compile(r'[,\\.!\\-><=\\(\\)\\[\\]\\/&\\'\\\"’;\\+\\–\\—]+')\n",
        "print(pattern)"
      ],
      "id": "89085fce",
      "execution_count": null,
      "outputs": []
    },
    {
      "cell_type": "markdown",
      "metadata": {},
      "source": [
        "::::\n",
        "\n",
        "### Tokenizer\n",
        "\n",
        "The other way to do this, which is probably *easier* but produces more complex output, is to draw on the tokenizers [already provided by NLTK](https://www.nltk.org/api/nltk.tokenize.html). For our purposes `word_tokenize` is probably fine, but depending on your needs there are other options and you can also write your own.\n"
      ],
      "id": "f4a8e417"
    },
    {
      "cell_type": "code",
      "metadata": {},
      "source": [
        "nltk.download('punkt')\n",
        "nltk.download('wordnet')\n",
        "from nltk.tokenize import word_tokenize\n",
        "print(word_tokenize)"
      ],
      "id": "7d102a6e",
      "execution_count": null,
      "outputs": []
    },
    {
      "cell_type": "markdown",
      "metadata": {},
      "source": [
        "### Compare\n",
        "\n",
        "Look at how these outputs differ in subtle ways:\n"
      ],
      "id": "4587ce0a"
    },
    {
      "cell_type": "code",
      "metadata": {},
      "source": [
        "subbed = []\n",
        "tokens = []\n",
        "for l in lower:\n",
        "    subbed.append(re.sub(pattern, ' ', l))\n",
        "    tokens.append(word_tokenize(l))\n",
        "\n",
        "for s in subbed:\n",
        "    as_markdown(\"Substituted\", s)\n",
        "\n",
        "for t in tokens:\n",
        "    as_markdown(\"Tokenised\", t)"
      ],
      "id": "02916c63",
      "execution_count": null,
      "outputs": []
    },
    {
      "cell_type": "markdown",
      "metadata": {},
      "source": [
        "## Stopword Removal\n",
        "\n",
        "::: {.callout-warning collapse=\"true\"}\n",
        "\n",
        "#### Difficulty Level: Moderate \n",
        "\n",
        "You need to remember how list comprehensions work to use the `stopword_list`.\n",
        "\n",
        ":::\n"
      ],
      "id": "abe52cf5"
    },
    {
      "cell_type": "code",
      "metadata": {},
      "source": [
        "stopword_list = set(stopwords.words('english'))\n",
        "print(stopword_list)"
      ],
      "id": "60c42504",
      "execution_count": null,
      "outputs": []
    },
    {
      "cell_type": "markdown",
      "metadata": {},
      "source": [
        ":::: {.panel-tabset}\n",
        "\n",
        "#### Question\n",
        "\n",
        "```python\n",
        "stopped = []\n",
        "for p in tokens[2:4]: # <-- why do I just take these items from the list?\n",
        "    stopped.append([x for x in p if x not in ??? and len(x) > 1])\n",
        "\n",
        "for s in stopped:\n",
        "    as_markdown(\"Line\", s)\n",
        "```\n",
        "\n",
        "#### Answer\n"
      ],
      "id": "3b965dbe"
    },
    {
      "cell_type": "code",
      "metadata": {},
      "source": [
        "stopped = []\n",
        "for p in tokens[2:4]: # <-- why do I just take these items from the list?\n",
        "    stopped.append([x for x in p if x not in stopword_list and len(x) > 1])\n",
        "\n",
        "for s in stopped:\n",
        "    as_markdown(\"Line\", s)"
      ],
      "id": "e16e0c0e",
      "execution_count": null,
      "outputs": []
    },
    {
      "cell_type": "markdown",
      "metadata": {},
      "source": [
        "::::\n",
        "\n",
        "## Lemmatisation vs Stemming\n",
        "\n",
        "::: {.callout-tip collapse=\"true\"}\n",
        "\n",
        "#### Difficulty level: Low.\n",
        "\n",
        ":::\n"
      ],
      "id": "c48674e0"
    },
    {
      "cell_type": "code",
      "metadata": {},
      "source": [
        "from nltk.stem.porter import PorterStemmer\n",
        "from nltk.stem.snowball import SnowballStemmer\n",
        "from nltk.stem.wordnet import WordNetLemmatizer "
      ],
      "id": "729835ef",
      "execution_count": null,
      "outputs": []
    },
    {
      "cell_type": "code",
      "metadata": {},
      "source": [
        "lemmatizer = WordNetLemmatizer()\n",
        "print(lemmatizer.lemmatize('monkeys'))\n",
        "print(lemmatizer.lemmatize('cities'))\n",
        "print(lemmatizer.lemmatize('complexity'))\n",
        "print(lemmatizer.lemmatize('Reades'))"
      ],
      "id": "31c1e21e",
      "execution_count": null,
      "outputs": []
    },
    {
      "cell_type": "code",
      "metadata": {},
      "source": [
        "stemmer = PorterStemmer()\n",
        "print(stemmer.stem('monkeys'))\n",
        "print(stemmer.stem('cities'))\n",
        "print(stemmer.stem('complexity'))\n",
        "print(stemmer.stem('Reades'))"
      ],
      "id": "10f49394",
      "execution_count": null,
      "outputs": []
    },
    {
      "cell_type": "code",
      "metadata": {},
      "source": [
        "stemmer = SnowballStemmer(language='english')\n",
        "print(stemmer.stem('monkeys'))\n",
        "print(stemmer.stem('cities'))\n",
        "print(stemmer.stem('complexity'))\n",
        "print(stemmer.stem('Reades'))"
      ],
      "id": "ef48df7a",
      "execution_count": null,
      "outputs": []
    },
    {
      "cell_type": "code",
      "metadata": {},
      "source": [
        "lemmatizer = WordNetLemmatizer()\n",
        "lemmas  = []\n",
        "stemmed = []\n",
        "\n",
        "# This would be better if we passed in a PoS (Part of Speech) tag as well,\n",
        "# but processing text for parts of speech is *expensive* and for the purposes\n",
        "# of this tutorial, not necessary.\n",
        "for s in stopped:\n",
        "    lemmas.append([lemmatizer.lemmatize(x) for x in s])\n",
        "\n",
        "for s in stopped:\n",
        "    stemmed.append([stemmer.stem(x) for x in s])\n",
        "\n",
        "for l in lemmas:\n",
        "    as_markdown('Lemmatised',l)\n",
        "\n",
        "for s in stemmed:\n",
        "    as_markdown('Stemmed',s)"
      ],
      "id": "5d546447",
      "execution_count": null,
      "outputs": []
    },
    {
      "cell_type": "code",
      "metadata": {},
      "source": [
        "# What are we doing here?\n",
        "for ix, p in enumerate(stopped):\n",
        "    stopped_set = set(stopped[ix])\n",
        "    lemma_set   = set(lemmas[ix])\n",
        "    print(sorted(stopped_set.symmetric_difference(lemma_set)))"
      ],
      "id": "1cfa7738",
      "execution_count": null,
      "outputs": []
    },
    {
      "cell_type": "markdown",
      "metadata": {},
      "source": [
        "# Applying Normalisation\n",
        "\n",
        "The above approach is fairly hard going since you need to loop through every list element applying these changes one at a time. Instead, we could convert the column to a corpus (or use pandas `apply`) together with a function imported from a library to do the work.\n",
        "\n",
        "## Downloading the Custom Module\n",
        "\n",
        "::: {.callout-tip collapse=\"true\"}\n",
        "\n",
        "#### Difficulty level: Low.\n",
        "\n",
        ":::\n",
        "\n",
        "This custom module is not perfect, but it gets the job done... mostly and has some additional features that you could play around with for a final project (e.g. `detect_entities` and `detect_acronyms`).\n"
      ],
      "id": "c1a4ba81"
    },
    {
      "cell_type": "code",
      "metadata": {},
      "source": [
        "import urllib.request\n",
        "host  = 'https://orca.casa.ucl.ac.uk'\n",
        "turl  = f'{host}/~jreades/__textual__.py'\n",
        "tdirs = os.path.join('textual')\n",
        "tpath = os.path.join(tdirs,'__init__.py')\n",
        "\n",
        "if not os.path.exists(tpath):\n",
        "    os.makedirs(tdirs, exist_ok=True)\n",
        "    urllib.request.urlretrieve(turl, tpath)"
      ],
      "id": "cff84eee",
      "execution_count": null,
      "outputs": []
    },
    {
      "cell_type": "markdown",
      "metadata": {},
      "source": [
        "## Importing the Custom Module\n",
        "\n",
        "::: {.callout-tip collapse=\"true\"}\n",
        "\n",
        "#### Difficulty Level: Low. \n",
        "\n",
        "But only because you didn't have to write the module! However, the questions could be hard...\n",
        "\n",
        ":::\n",
        "\n",
        "In a Jupyter notebook, this code allows us to edit and reload the library dynamically:\n",
        "\n",
        "```python\n",
        "%load_ext autoreload\n",
        "%autoreload 2\n",
        "```\n",
        "\n",
        "Now let's import it.\n"
      ],
      "id": "f8acbd6e"
    },
    {
      "cell_type": "code",
      "metadata": {},
      "source": [
        "from textual import *"
      ],
      "id": "0ef4d9b7",
      "execution_count": null,
      "outputs": []
    },
    {
      "cell_type": "code",
      "metadata": {},
      "source": [
        "as_markdown('Input', cleaned)"
      ],
      "id": "27f93e98",
      "execution_count": null,
      "outputs": []
    },
    {
      "cell_type": "code",
      "metadata": {},
      "source": [
        "as_markdown('Normalised', [normalise_document(x, remove_digits=True) for x in cleaned])"
      ],
      "id": "a15d3f55",
      "execution_count": null,
      "outputs": []
    },
    {
      "cell_type": "code",
      "metadata": {},
      "source": [
        "help(normalise_document)"
      ],
      "id": "9475837d",
      "execution_count": null,
      "outputs": []
    },
    {
      "cell_type": "markdown",
      "metadata": {},
      "source": [
        "### Questions\n",
        "\n",
        "Let's assume that you want to analyse web page content... \n",
        "\n",
        "- Based on the above output, what stopwords do you think are missing?\n",
        "- Based on the above output, what should be removed but isn't?\n",
        "- Based on the above output, how do you think a computer can work with this text?\n",
        "\n",
        "::: {.callout-caution}\n",
        "\n",
        "#### Stop!\n",
        "\n",
        "Beyond this point, we are moving into Natural Language Processing. If you are already struggling with regular expressions, I would recommend _stopping here_. You can come back to revisit the NLP components and creation of word clouds later.\n",
        "\n",
        ":::\n",
        "\n",
        "# Revenons à Nos Moutons\n",
        "\n",
        "Now that you've seen how the steps are applied to a 'random' HTML document, let's get back to the problem at hand (revenons à nos moutons == let's get back to our sheep).\n",
        "\n",
        "## Process the Selected Listings\n",
        "\n",
        "::: {.callout-tip collapse=\"true\"}\n",
        "\n",
        "#### Difficulty level: Low, but you'll need to be patient!\n",
        "\n",
        ":::\n",
        "\n",
        "Notice the use of `%%time` here -- this will tell you how long each block of code takes to complete. It's a really useful technique for reminding *yourself* and others of how long something might take to run. I find that with NLP this is particularly important since you have to do a *lot* of processing on each document in order to normalise it.\n",
        "\n",
        "::: {.callout-tip}\n",
        "\n",
        "Notice how we can change the default parameters for `normalise_document` even when using `apply`, but that the syntax is different. So whereas we'd use `normalise_document(doc, remove_digits=True)` if calling the function directly, here it's `.apply(normalise_document, remove_digits=True)`!\n",
        "\n",
        ":::\n",
        "\n",
        ":::: {.panel-tabset}\n",
        "\n",
        "#### Question\n",
        "\n",
        "```python\n",
        "%%time \n",
        "# I get about 1 minute on a M2 Mac\n",
        "lux['description_norm'] = lux.???.apply(???, remove_digits=True)\n",
        "```\n",
        "\n",
        "```python\n",
        "%%time \n",
        "# I get about 1 minute on a M2 Mac\n",
        "aff['description_norm'] = aff.???.apply(???, remove_digits=True)\n",
        "```\n",
        "\n",
        "```python\n",
        "%%time  \n",
        "# I get about 2 seconds on a M2 Mac\n",
        "bluesp['description_norm'] = bluesp.???.apply(???, remove_digits=True)\n",
        "```\n",
        "\n",
        "#### Answer\n"
      ],
      "id": "cb7a1d16"
    },
    {
      "cell_type": "code",
      "metadata": {},
      "source": [
        "%%time\n",
        "# I get about 1 minute on a M2 Mac\n",
        "lux['description_norm'] = lux.description.apply(normalise_document, remove_digits=True)"
      ],
      "id": "ff3745f7",
      "execution_count": null,
      "outputs": []
    },
    {
      "cell_type": "code",
      "metadata": {},
      "source": [
        "%%time\n",
        "# I get about 1 minute on a M2 Mac\n",
        "aff['description_norm'] = aff.description.apply(normalise_document, remove_digits=True)"
      ],
      "id": "b9c660e5",
      "execution_count": null,
      "outputs": []
    },
    {
      "cell_type": "code",
      "metadata": {},
      "source": [
        "%%time\n",
        "# I get about 1 seconds on a M2 Mac\n",
        "bluesp['description_norm'] = bluesp.description.apply(normalise_document, remove_digits=True)"
      ],
      "id": "88876040",
      "execution_count": null,
      "outputs": []
    },
    {
      "cell_type": "markdown",
      "metadata": {},
      "source": [
        "::::\n",
        "\n",
        "## Select and Tokenise\n",
        "\n",
        "::: {.callout-tip collapse=\"true\"}\n",
        "\n",
        "#### Difficulty level: Low, except for the double list-comprehension.\n",
        "\n",
        ":::\n",
        "\n",
        "### Select and Extract Corpus\n",
        "\n",
        "See useful tutorial [here](https://towardsdatascience.com/tf-idf-explained-and-python-sklearn-implementation-b020c5e83275). Although we shouldn't have any empty descriptions, by the time we've finished normalising the textual data we may have _created_ some empty values and we need to ensure that we don't accidentally pass a NaN to the vectorisers and frequency distribution functions.\n"
      ],
      "id": "70304f1a"
    },
    {
      "cell_type": "code",
      "metadata": {},
      "source": [
        "srcdf = bluesp "
      ],
      "id": "13d45df0",
      "execution_count": null,
      "outputs": []
    },
    {
      "cell_type": "markdown",
      "metadata": {},
      "source": [
        "::: {.callout-tip}\n",
        "\n",
        "#### Coding Tip\n",
        "\n",
        "Notice how you only need to change the value of the variable here to try any of the different selections we did above? This is a simple kind of parameterisation somewhere between a function and hard-coding everything.\n",
        "\n",
        ":::\n"
      ],
      "id": "6cc4907c"
    },
    {
      "cell_type": "code",
      "metadata": {},
      "source": [
        "corpus = srcdf.description_norm.fillna(' ').values\n",
        "print(corpus[0:3])"
      ],
      "id": "d2c59286",
      "execution_count": null,
      "outputs": []
    },
    {
      "cell_type": "markdown",
      "metadata": {},
      "source": [
        "### Tokenise\n",
        "\n",
        "There are different forms of tokenisation and different algorithms will expect differing inputs. Here are two:\n"
      ],
      "id": "8ee0efe6"
    },
    {
      "cell_type": "code",
      "metadata": {},
      "source": [
        "sentences = [nltk.sent_tokenize(text) for text in corpus]\n",
        "words     = [[nltk.tokenize.word_tokenize(sentence) \n",
        "                  for sentence in nltk.sent_tokenize(text)] \n",
        "                  for text in corpus]"
      ],
      "id": "6b67e07f",
      "execution_count": null,
      "outputs": []
    },
    {
      "cell_type": "markdown",
      "metadata": {},
      "source": [
        "Notice how this has turned every sentence into an array and each document into an array of arrays:\n"
      ],
      "id": "ec44be60"
    },
    {
      "cell_type": "code",
      "metadata": {},
      "source": [
        "print(f\"Sentences 0: {sentences[0]}\")\n",
        "print()\n",
        "print(f\"Words 0: {words[0]}\")"
      ],
      "id": "dc447f06",
      "execution_count": null,
      "outputs": []
    },
    {
      "cell_type": "markdown",
      "metadata": {},
      "source": [
        "## Frequencies and Ngrams\n",
        "\n",
        "::: {.callout-warning collapse=\"true\"}\n",
        "\n",
        "#### Difficulty level: Moderate.\n",
        "\n",
        ":::\n",
        "\n",
        "One new thing you'll see here is the `ngram`: ngrams are 'simply' pairs, or triplets, or quadruplets of words. You may come across the terms unigram (`ngram(1,1)`), bigram (`ngram(2,2)`), trigram (`ngram(3,3)`)... typically, you will rarely find anything beyond trigrams, and these present real issues for text2vec algorithms because the embedding for `geographical`, `information`, and `systems` is _not_ the same as for `geographical information systetms`.\n",
        "\n",
        "### Build Frequency Distribution\n",
        "\n",
        "Build counts for ngram range 1..3:\n"
      ],
      "id": "c7648b8a"
    },
    {
      "cell_type": "code",
      "metadata": {},
      "source": [
        "fcounts = dict()\n",
        "\n",
        "# Here we replace all full-stops... can you think why we might do this?\n",
        "data = nltk.tokenize.word_tokenize(' '.join([text.replace('.','') for text in corpus]))\n",
        "\n",
        "for size in 1, 2, 3:\n",
        "    fdist = FreqDist(ngrams(data, size))\n",
        "    print(fdist)\n",
        "    # If you only need one note this: https://stackoverflow.com/a/52193485/4041902\n",
        "    fcounts[size] = pd.DataFrame.from_dict({f'Ngram Size {size}': fdist})"
      ],
      "id": "8a9baebb",
      "execution_count": null,
      "outputs": []
    },
    {
      "cell_type": "markdown",
      "metadata": {},
      "source": [
        "### Output Top-n Ngrams\n",
        "\n",
        "And output the most common ones for each ngram range:\n"
      ],
      "id": "60410ac2"
    },
    {
      "cell_type": "code",
      "metadata": {},
      "source": [
        "for dfs in fcounts.values():\n",
        "    print(dfs.sort_values(by=dfs.columns.values[0], ascending=False).head(10))\n",
        "    print()"
      ],
      "id": "9126f9e0",
      "execution_count": null,
      "outputs": []
    },
    {
      "cell_type": "markdown",
      "metadata": {},
      "source": [
        "### Questions\n",
        "\n",
        "- Can you think why we don't care about punctuation for frequency distributions and n-grams?\n",
        "- Do you understand what n-grams *are*?\n",
        "\n",
        "## Count Vectoriser\n",
        "\n",
        "::: {.callout-tip collapse=\"true\"}\n",
        "\n",
        "#### Difficulty level: Low, but the output needs some thought!\n",
        "\n",
        ":::\n",
        "\n",
        "This is a big foray into sklearn (sci-kit learn) which is the main machine learning and clustering module for Python. For processing text we use *vectorisers* to convert terms to a vector representation. We're doing this on the smallest of the derived data sets because these processes can take a while to run and generate *huge* matrices (remember: one row and one column for each term!).\n",
        "\n",
        "### Fit the Vectoriser\n"
      ],
      "id": "01b76ad0"
    },
    {
      "cell_type": "code",
      "metadata": {},
      "source": [
        "cvectorizer = CountVectorizer(ngram_range=(1,3))\n",
        "cvectorizer.fit(corpus)"
      ],
      "id": "bb07004a",
      "execution_count": null,
      "outputs": []
    },
    {
      "cell_type": "markdown",
      "metadata": {},
      "source": [
        "### Brief Demonstration\n",
        "\n",
        "Find the number associated with a word in the vocabulary and how many times it occurs in the original corpus:\n"
      ],
      "id": "3a875003"
    },
    {
      "cell_type": "code",
      "metadata": {},
      "source": [
        "term = 'stratford'\n",
        "pd.options.display.max_colwidth=750\n",
        "# Find the vocabulary mapping for the term\n",
        "print(f\"Vocabulary mapping for {term} is {cvectorizer.vocabulary_[term]}\")\n",
        "# How many times is it in the data\n",
        "print(f\"Found {srcdf.description_norm.str.contains(term).sum():,} rows containing {term}\")\n",
        "# Print the descriptions containing the term\n",
        "for x in srcdf[srcdf.description_norm.str.contains(term)].description_norm:\n",
        "    as_markdown('Stratford',x)"
      ],
      "id": "6062292d",
      "execution_count": null,
      "outputs": []
    },
    {
      "cell_type": "markdown",
      "metadata": {},
      "source": [
        "### Transform the Corpus \n",
        "\n",
        "You can only *tranform* the entire corpus *after* the vectoriser has been fitted. There is an option to `fit_transform` in one go, but I wanted to demonstrate a few things here and some vectorisers are don't support the one-shot fit-and-transform approach. **Note the type of the transformed corpus**:\n"
      ],
      "id": "b6d574d9"
    },
    {
      "cell_type": "code",
      "metadata": {},
      "source": [
        "cvtcorpus = cvectorizer.transform(corpus)\n",
        "cvtcorpus # cvtcorpus for count-vectorised transformed corpus"
      ],
      "id": "456a7427",
      "execution_count": null,
      "outputs": []
    },
    {
      "cell_type": "markdown",
      "metadata": {},
      "source": [
        "### Single Document\n",
        "\n",
        "Here is the **first** document from the corpus:\n"
      ],
      "id": "0dd7ddf6"
    },
    {
      "cell_type": "code",
      "metadata": {},
      "source": [
        "doc_df = pd.DataFrame(cvtcorpus[0].T.todense(), \n",
        "                      index=cvectorizer.get_feature_names_out(), columns=[\"Counts\"]\n",
        "                     ).sort_values('Counts', ascending=False)\n",
        "doc_df.head(10)"
      ],
      "id": "86c20fff",
      "execution_count": null,
      "outputs": []
    },
    {
      "cell_type": "markdown",
      "metadata": {},
      "source": [
        "### Transformed Corpus\n"
      ],
      "id": "3da96c65"
    },
    {
      "cell_type": "code",
      "metadata": {},
      "source": [
        "cvdf = pd.DataFrame(data=cvtcorpus.toarray(),\n",
        "                        columns=cvectorizer.get_feature_names_out())\n",
        "print(f\"Raw count vectorised data frame has {cvdf.shape[0]:,} rows and {cvdf.shape[1]:,} columns.\")\n",
        "cvdf.iloc[0:5,0:10]"
      ],
      "id": "0e9e9a76",
      "execution_count": null,
      "outputs": []
    },
    {
      "cell_type": "markdown",
      "metadata": {},
      "source": [
        "### Filter Low-Frequency Words\n",
        "\n",
        "These are likely to be artefacts of text-cleaning or human input error. As well, if we're trying to look across an entire corpus then we might not want to retain words that only appear in a couple of documents.\n",
        "\n",
        "Let's start by getting the *column* sums:\n"
      ],
      "id": "59d70467"
    },
    {
      "cell_type": "code",
      "metadata": {},
      "source": [
        "sums = cvdf.sum(axis=0)\n",
        "print(f\"There are {len(sums):,} terms in the data set.\")\n",
        "sums.head()"
      ],
      "id": "099982dd",
      "execution_count": null,
      "outputs": []
    },
    {
      "cell_type": "markdown",
      "metadata": {},
      "source": [
        "Remove columns (i.e. terms) appearing in less than 1% of documents. You can do this by thinking about what the shape of the data frame means (rows and/or columns) and how you'd get 1% of that!\n",
        "\n",
        ":::: {.panel-tabset}\n",
        "\n",
        "#### Question\n",
        "\n",
        "```python\n",
        "filter_terms = sums >= cvdf.shape[0] * ???\n",
        "```\n",
        "\n",
        "#### Answer\n"
      ],
      "id": "b5b49fc3"
    },
    {
      "cell_type": "code",
      "metadata": {},
      "source": [
        "filter_terms = sums >= cvdf.shape[0] * 0.01"
      ],
      "id": "626922bb",
      "execution_count": null,
      "outputs": []
    },
    {
      "cell_type": "markdown",
      "metadata": {},
      "source": [
        "::::\n",
        "\n",
        "Now see how we can use this to strip out the columns corresponding to low-frequency terms:\n"
      ],
      "id": "d760b6a7"
    },
    {
      "cell_type": "code",
      "metadata": {},
      "source": [
        "fcvdf = cvdf.drop(columns=cvdf.columns[~filter_terms].values)\n",
        "print(f\"Filtered count vectorised data frame has {fcvdf.shape[0]:,} rows and {fcvdf.shape[1]:,} columns.\")\n",
        "fcvdf.iloc[0:5,0:10]"
      ],
      "id": "d09133ea",
      "execution_count": null,
      "outputs": []
    },
    {
      "cell_type": "code",
      "metadata": {},
      "source": [
        "fcvdf.sum(axis=0)"
      ],
      "id": "da4ceeb0",
      "execution_count": null,
      "outputs": []
    },
    {
      "cell_type": "markdown",
      "metadata": {},
      "source": [
        "We're going to pick this up again in Task 7.\n",
        "\n",
        "### Questions\n",
        "\n",
        "- Can you explain what `doc_df` contains?\n",
        "- What does `cvdf` contain? Explain the rows and columns.\n",
        "- What is the function of `filter_terms`?\n",
        "\n",
        "## TF/IDF Vectoriser\n",
        "\n",
        "::: {.callout-warning collapse=\"true\"}\n",
        "\n",
        "#### Difficulty level: Moderate\n",
        "\n",
        "But only if you want to understand how `max_df` and `min_df` work!\n",
        "\n",
        ":::\n",
        "\n",
        "### Fit and Transform\n"
      ],
      "id": "f20c859e"
    },
    {
      "cell_type": "code",
      "metadata": {},
      "source": [
        "tfvectorizer = TfidfVectorizer(use_idf=True, ngram_range=(1,3), \n",
        "                               max_df=0.75, min_df=0.01) # <-- these matter!\n",
        "tftcorpus    = tfvectorizer.fit_transform(corpus) # TF-transformed corpus"
      ],
      "id": "7318c0f1",
      "execution_count": null,
      "outputs": []
    },
    {
      "cell_type": "markdown",
      "metadata": {},
      "source": [
        "### Single Document\n"
      ],
      "id": "6d05ab0a"
    },
    {
      "cell_type": "code",
      "metadata": {},
      "source": [
        "doc_df = pd.DataFrame(tftcorpus[0].T.todense(), index=tfvectorizer.get_feature_names_out(), columns=[\"Weights\"])\n",
        "doc_df.sort_values('Weights', ascending=False).head(10)"
      ],
      "id": "8371cc92",
      "execution_count": null,
      "outputs": []
    },
    {
      "cell_type": "markdown",
      "metadata": {},
      "source": [
        "### Transformed Corpus\n"
      ],
      "id": "46e8dff0"
    },
    {
      "cell_type": "code",
      "metadata": {},
      "source": [
        "tfidf = pd.DataFrame(data=tftcorpus.toarray(),\n",
        "                        columns=tfvectorizer.get_feature_names_out())\n",
        "print(f\"TF/IDF data frame has {tfidf.shape[0]:,} rows and {tfidf.shape[1]:,} columns.\")\n",
        "tfidf.head()"
      ],
      "id": "ea84f369",
      "execution_count": null,
      "outputs": []
    },
    {
      "cell_type": "markdown",
      "metadata": {},
      "source": [
        "### Questions\n",
        "\n",
        "- What does the TF/IDF score *represent*?\n",
        "- What is the role of `max_df` and `min_df`?\n",
        "\n",
        "# Word Clouds\n",
        "\n",
        "## For Counts\n",
        "\n",
        "::: {.callout-tip collapse=\"true\"}\n",
        "\n",
        "#### Difficulty level: Easy!\n",
        "\n",
        ":::\n"
      ],
      "id": "ae0bcf8a"
    },
    {
      "cell_type": "code",
      "metadata": {},
      "source": [
        "fcvdf.sum().sort_values(ascending=False)"
      ],
      "id": "efe3575c",
      "execution_count": null,
      "outputs": []
    },
    {
      "cell_type": "code",
      "metadata": {},
      "source": [
        "ff = 'Roboto-Light.ttf'\n",
        "dp = '/home/jovyan/.local/share/fonts/'\n",
        "tp = os.path.join(os.path.expanduser('~'),'Library','Fonts')\n",
        "if os.path.exists(tp):\n",
        "    fp = os.path.join(tp,ff)\n",
        "else:\n",
        "    fp = os.path.join(dp,ff)"
      ],
      "id": "6ab0d31d",
      "execution_count": null,
      "outputs": []
    },
    {
      "cell_type": "code",
      "metadata": {},
      "source": [
        "f,ax = plt.subplots(1,1,figsize=(8, 8))\n",
        "plt.gcf().set_dpi(150)\n",
        "Cloud = WordCloud(\n",
        "    background_color=\"white\", \n",
        "    max_words=75,\n",
        "    font_path=fp\n",
        ").generate_from_frequencies(fcvdf.sum())\n",
        "ax.imshow(Cloud) \n",
        "ax.axis(\"off\");\n",
        "#plt.savefig(\"Wordcloud 1.png\")"
      ],
      "id": "e76ae910",
      "execution_count": null,
      "outputs": []
    },
    {
      "cell_type": "markdown",
      "metadata": {},
      "source": [
        "## For TF/IDF Weighting\n",
        "\n",
        "::: {.callout-tip collapse=\"true\"}\n",
        "\n",
        "#### Difficulty level: Low, but you'll need to be patient!\n",
        "\n",
        ":::\n"
      ],
      "id": "d8958924"
    },
    {
      "cell_type": "code",
      "metadata": {},
      "source": [
        "tfidf.sum().sort_values(ascending=False)"
      ],
      "id": "f8c33ec8",
      "execution_count": null,
      "outputs": []
    },
    {
      "cell_type": "code",
      "metadata": {},
      "source": [
        "f,ax = plt.subplots(1,1,figsize=(8, 8))\n",
        "plt.gcf().set_dpi(150)\n",
        "Cloud = WordCloud(\n",
        "    background_color=\"white\", \n",
        "    max_words=100,\n",
        "    font_path=fp\n",
        ").generate_from_frequencies(tfidf.sum())\n",
        "ax.imshow(Cloud) \n",
        "ax.axis(\"off\");\n",
        "#plt.savefig(\"Wordcloud 2.png\")"
      ],
      "id": "d360814f",
      "execution_count": null,
      "outputs": []
    },
    {
      "cell_type": "markdown",
      "metadata": {},
      "source": [
        "### Questions\n",
        "\n",
        "- What does the `sum` represent for the count vectoriser?\n",
        "- What does the `sum` represent for the TF/IDF vectoriser?\n",
        "\n",
        "# Latent Dirchlet Allocation\n",
        "\n",
        "::: {.callout-tip}\n",
        "\n",
        "I would give this a _low_ priority. It's a commonly-used method, but on small data sets it really isn't much use and I've found its answers to be... unclear... even on large data sets.\n",
        "\n",
        ":::\n",
        "\n",
        "Adapted from [this post](https://stackabuse.com/python-for-nlp-topic-modeling/) on doing LDA using sklearn. Most other examples use the `gensim` library.\n"
      ],
      "id": "625a1fb1"
    },
    {
      "cell_type": "code",
      "metadata": {},
      "source": [
        "# Notice change to ngram range \n",
        "# (try 1,1 and 1,2 for other options)\n",
        "vectorizer = CountVectorizer(ngram_range=(1,2))"
      ],
      "id": "4c198eab",
      "execution_count": null,
      "outputs": []
    },
    {
      "cell_type": "markdown",
      "metadata": {},
      "source": [
        "## Calculate Topics\n"
      ],
      "id": "4a4fdc6b"
    },
    {
      "cell_type": "code",
      "metadata": {},
      "source": [
        "vectorizer.fit(corpus) \n",
        "tcorpus = vectorizer.transform(corpus) # tcorpus for transformed corpus\n",
        "\n",
        "LDA = LatentDirichletAllocation(n_components=3, random_state=42) # Might want to experiment with n_components too\n",
        "LDA.fit(tcorpus)"
      ],
      "id": "c3d92701",
      "execution_count": null,
      "outputs": []
    },
    {
      "cell_type": "code",
      "metadata": {},
      "source": [
        "first_topic = LDA.components_[0]\n",
        "top_words = first_topic.argsort()[-25:]\n",
        "\n",
        "for i in top_words:\n",
        "    print(vectorizer.get_feature_names_out()[i])"
      ],
      "id": "adaa4d0f",
      "execution_count": null,
      "outputs": []
    },
    {
      "cell_type": "code",
      "metadata": {},
      "source": [
        "for i,topic in enumerate(LDA.components_):\n",
        "    as_markdown(f'Top 10 words for topic #{i}', ', '.join([vectorizer.get_feature_names_out()[i] for i in topic.argsort()[-25:]]))"
      ],
      "id": "f52da65d",
      "execution_count": null,
      "outputs": []
    },
    {
      "cell_type": "markdown",
      "metadata": {},
      "source": [
        "## Maximum Likelihood Topic\n"
      ],
      "id": "4ade3d5c"
    },
    {
      "cell_type": "code",
      "metadata": {},
      "source": [
        "topic_values = LDA.transform(tcorpus)\n",
        "topic_values.shape"
      ],
      "id": "a254c565",
      "execution_count": null,
      "outputs": []
    },
    {
      "cell_type": "code",
      "metadata": {},
      "source": [
        "pd.options.display.max_colwidth=20\n",
        "srcdf['Topic'] = topic_values.argmax(axis=1)\n",
        "srcdf.head()"
      ],
      "id": "e087eb4a",
      "execution_count": null,
      "outputs": []
    },
    {
      "cell_type": "code",
      "metadata": {},
      "source": [
        "pd.options.display.max_colwidth=75\n",
        "srcdf[srcdf.Topic==1].description_norm.head(10)"
      ],
      "id": "86bf5801",
      "execution_count": null,
      "outputs": []
    },
    {
      "cell_type": "code",
      "metadata": {},
      "source": [
        "vectorizer = CountVectorizer(ngram_range=(1,1), stop_words='english', analyzer='word', max_df=0.7, min_df=0.05)\n",
        "topic_corpus = vectorizer.fit_transform(srcdf[srcdf.Topic==1].description.values) # tcorpus for transformed corpus"
      ],
      "id": "b4f1f1f7",
      "execution_count": null,
      "outputs": []
    },
    {
      "cell_type": "code",
      "metadata": {},
      "source": [
        "topicdf = pd.DataFrame(data=topic_corpus.toarray(),\n",
        "                        columns=vectorizer.get_feature_names_out())"
      ],
      "id": "d108fe37",
      "execution_count": null,
      "outputs": []
    },
    {
      "cell_type": "code",
      "metadata": {},
      "source": [
        "f,ax = plt.subplots(1,1,figsize=(8,8))\n",
        "plt.gcf().set_dpi(150)\n",
        "Cloud = WordCloud(\n",
        "            background_color=\"white\", \n",
        "            max_words=75).generate_from_frequencies(topicdf.sum())\n",
        "ax.imshow(Cloud) \n",
        "ax.axis(\"off\");\n",
        "# plt.savefig('Wordcloud 3.png')"
      ],
      "id": "48d2cdd9",
      "execution_count": null,
      "outputs": []
    },
    {
      "cell_type": "markdown",
      "metadata": {},
      "source": [
        "# Word2Vec\n",
        "\n",
        "::: {.callout-tip}\n",
        "\n",
        "This algorithm works almost like magic. You should play with the configuration parameters and see how it changes your results.\n",
        "\n",
        ":::\n",
        "\n",
        "## Configure\n"
      ],
      "id": "3a0e2080"
    },
    {
      "cell_type": "code",
      "metadata": {},
      "source": [
        "from gensim.models.word2vec import Word2Vec"
      ],
      "id": "a981c8b9",
      "execution_count": null,
      "outputs": []
    },
    {
      "cell_type": "code",
      "metadata": {},
      "source": [
        "dims = 100\n",
        "print(f\"You've chosen {dims} dimensions.\")\n",
        "\n",
        "window = 3\n",
        "print(f\"You've chosen a window of size {window}.\")\n",
        "\n",
        "min_v_freq  = 0.005 # Don't keep words appearing less than 0.5% frequency\n",
        "min_v_count = math.ceil(min_v_freq * srcdf.shape[0])\n",
        "print(f\"With a minimum frequency of {min_v_freq} and {srcdf.shape[0]:,} documents, minimum vocab frequency is {min_v_count:,}.\")"
      ],
      "id": "faccf8e3",
      "execution_count": null,
      "outputs": []
    },
    {
      "cell_type": "markdown",
      "metadata": {},
      "source": [
        "## Train\n"
      ],
      "id": "39837e3f"
    },
    {
      "cell_type": "code",
      "metadata": {},
      "source": [
        "%%time \n",
        "\n",
        "corpus      = srcdf.description_norm.fillna(' ').values\n",
        "#corpus_sent = [nltk.sent_tokenize(text) for text in corpus] # <-- with more formal writing this would work well\n",
        "corpus_sent = [d.replace('.',' ').split(' ') for d in corpus] # <-- deals better with many short sentences though context may end up... weird\n",
        "model       = Word2Vec(sentences=corpus_sent, vector_size=dims, window=window, epochs=200, \n",
        "                 min_count=min_v_count, seed=42, workers=1)\n",
        "\n",
        "#model.save(f\"word2vec-d{dims}-w{window}.model\") # <-- You can then Word2Vec.load(...) which is useful with large corpora"
      ],
      "id": "d7494e25",
      "execution_count": null,
      "outputs": []
    },
    {
      "cell_type": "markdown",
      "metadata": {},
      "source": [
        "## Explore Similarities\n",
        "\n",
        "This next bit of code only runs if you have calculated the frequencies above in the [Frequencies and Ngrams](#frequencies-and-ngrams) section.\n"
      ],
      "id": "e3725eea"
    },
    {
      "cell_type": "code",
      "metadata": {},
      "source": [
        "pd.set_option('display.max_colwidth',150)\n",
        "\n",
        "df = fcounts[1] # <-- copy out only the unigrams as we haven't trained anything else\n",
        "\n",
        "n     = 14 # number of words\n",
        "topn  = 7  # number of most similar words\n",
        "\n",
        "selected_words = df[df['Ngram Size 1'] > 5].reset_index().level_0.sample(n, random_state=42).tolist()\n",
        "\n",
        "words = []\n",
        "v1    = []\n",
        "v2    = []\n",
        "v3    = []\n",
        "sims  = []\n",
        "\n",
        "for w in selected_words:\n",
        "    try: \n",
        "        vector = model.wv[w]  # get numpy vector of a word\n",
        "        #print(f\"Word vector for '{w}' starts: {vector[:5]}...\")\n",
        "    \n",
        "        sim = model.wv.most_similar(w, topn=topn)\n",
        "        #print(f\"Similar words to '{w}' include: {sim}.\")\n",
        "    \n",
        "        words.append(w)\n",
        "        v1.append(vector[0])\n",
        "        v2.append(vector[1])\n",
        "        v3.append(vector[2])\n",
        "        sims.append(\", \".join([x[0] for x in sim]))\n",
        "    except KeyError:\n",
        "        print(f\"Didn't find {w} in model. Can happen with low-frequency terms.\")\n",
        "    \n",
        "vecs = pd.DataFrame({\n",
        "    'Term':words,\n",
        "    'V1':v1, \n",
        "    'V2':v2, \n",
        "    'V3':v3,\n",
        "    f'Top {topn} Similar':sims\n",
        "})\n",
        "\n",
        "vecs"
      ],
      "id": "47d35762",
      "execution_count": null,
      "outputs": []
    },
    {
      "cell_type": "markdown",
      "metadata": {},
      "source": [
        "```python\n",
        "#print(model.wv.index_to_key) # <-- the full vocabulary that has been trained\n",
        "```\n",
        "\n",
        "## Apply\n",
        "\n",
        "We're going to make *use* of this further next week...\n",
        "\n",
        "### Questions\n",
        "\n",
        "- What happens when *dims* is very small (e.g. 25) or very large (e.g. 300)?\n",
        "- What happens when *window* is very small (e.g. 2) or very large (e.g. 8)?\n",
        "\n",
        "#0. Processing the Full File\n",
        "\n",
        "::: {.callout-caution}\n",
        "\n",
        "This code can take *some time* (**&gt; 5 minutes on a M2 Mac**) to run, so **don't run this** until you've understood what we did before!\n",
        "\n",
        ":::\n",
        "\n",
        "You will get a warning about `\".\" looks like a filename, not markup` — this looks a little scary, but is basically suggesting that we have a description that consists only of a '.' or that looks like some kind of URL (which the parser thinks means you're trying to pass it something to download). \n",
        "\n",
        "```python\n",
        "%%time \n",
        "# This can take up to 8 minutes on a M2 Mac\n",
        "gdf['description_norm'] = ''\n",
        "gdf['description_norm'] = gdf.description.apply(normalise_document, remove_digits=True, special_char_removal=True)\n",
        "```\n",
        "\n",
        "```python\n",
        "gdf.to_parquet(os.path.join('data','geo',f'{fn.replace(\".\",\"-with-nlp.\")}'))\n",
        "```\n",
        "\n",
        "::: {.callout-tip}\n",
        "\n",
        "Saving an intermediate file at this point is useful because you've done quite a bit of _expensive_ computation. You _could_ restart-and-run-all and then go out for the day, but probably easier to just save this output and then, if you need to restart your analysis at some point in the future, just remember to deserialise amenities back into a list format.\n",
        "\n",
        ":::\n",
        "\n",
        "## Applications\n",
        "\n",
        "The above is _still_ only the results for the 'luxury' apartments _alone_. At this point, you would probably want to think about how your results might change if you changed any of the following:\n",
        "\n",
        "1. Using one of the other data sets that we created, or even the entire data set!\n",
        "2. Applying the CountVectorizer or TfidfVectorizer _before_ selecting out any of our 'sub' data sets.\n",
        "3. Using the visualisation of information from \\#2 to improve our regex selection process.\n",
        "4. Reducing, increasing, or constraining (i.e. `ngrams=(2,2)`) the size of the ngrams while bearing in mind the impact on processing time and interpretability.\n",
        "5. Filtering by type of listing or host instead of keywords found in the description (for instance, what if you applied TF/IDF to the entire data set and then selected out 'Whole Properties' before splitting into those advertised by hosts with only one listing vs. those with multiple listings?).\n",
        "6. Linking this back to the geography.\n",
        "\n",
        "Over the next few weeks we'll also consider alternative means of visualising the data!\n",
        "\n",
        "## Resources\n",
        "\n",
        "There is a lot more information out there, including a [whole book](https://www.nltk.org/book/) and your standard [O'Reilly text](http://www.datascienceassn.org/sites/default/files/Natural%20Language%20Processing%20with%20Python.pdf).\n",
        "\n",
        "And some more useful links:\n",
        "\n",
        "- [Pandas String Contains Method](https://pandas.pydata.org/pandas-docs/stable/reference/api/pandas.Series.str.contains.html)\n",
        "- [Using Regular Expressions with Pandas](https://kanoki.org/2019/11/12/how-to-use-regex-in-pandas/)\n",
        "- [Summarising Chapters from Frankenstein using TF/IDF](https://towardsdatascience.com/using-tf-idf-to-form-descriptive-chapter-summaries-via-keyword-extraction-4e6fd857d190)"
      ],
      "id": "24fee101"
    }
  ],
  "metadata": {
    "kernelspec": {
      "name": "python3",
      "language": "python",
      "display_name": "Python 3 (ipykernel)",
      "path": "/Users/jreades/anaconda3/envs/sds/share/jupyter/kernels/python3"
    }
  },
  "nbformat": 4,
  "nbformat_minor": 5
}